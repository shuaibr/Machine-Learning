{
 "cells": [
  {
   "cell_type": "markdown",
   "metadata": {},
   "source": [
    "# <center> Assignment 2 </center>\n",
    "\n",
    "#### Name: Shuaib Reeyaz\n",
    "\n",
    "#### Student ID: 150616640\n",
    "\n",
    "You are given a training set, a valication set, a test set, and the description of the features. Please implement the following requirements. You may use the sklearn or other python packages. \n",
    "\n",
    "Ref: https://scikit-learn.org/stable/modules/generated/sklearn.neighbors.KNeighborsClassifier.html\n",
    "\n",
    "Submit the ipynb file ONLY."
   ]
  },
  {
   "cell_type": "code",
   "execution_count": 33,
   "metadata": {},
   "outputs": [],
   "source": [
    "import pandas as pd\n",
    "import sklearn as sk\n",
    "import csv\n",
    "from sklearn import preprocessing\n",
    "# from sklearn.neighbors import KNeighborsRegressor\n",
    "from sklearn.neighbors import KNeighborsClassifier\n",
    "from sklearn.metrics import mean_squared_error\n",
    "\n",
    "### Read the target values and predicted scores into lists\n",
    "\n",
    "def splitter(data):\n",
    "    dest = []\n",
    "    for line in data:\n",
    "        data_line = line.rstrip().split(';')\n",
    "        dest.append(data_line)\n",
    "    return dest \n",
    "    \n",
    "\n",
    "f_train = open('data/train.csv')\n",
    "f_test = open('data/test.csv')\n",
    "f_valid = open('data/validation.csv')\n",
    "\n",
    "\n",
    "d_train = splitter(f_train)\n",
    "d_test = splitter(f_test)\n",
    "d_valid = splitter(f_valid)"
   ]
  },
  {
   "cell_type": "markdown",
   "metadata": {},
   "source": [
    "### Question 1. Normalize the data and train a kNN model with k = 1."
   ]
  },
  {
   "cell_type": "code",
   "execution_count": 36,
   "metadata": {},
   "outputs": [
    {
     "data": {
      "text/plain": [
       "KNeighborsClassifier(algorithm='auto', leaf_size=30, metric='minkowski',\n",
       "                     metric_params=None, n_jobs=None, n_neighbors=1, p=2,\n",
       "                     weights='uniform')"
      ]
     },
     "execution_count": 36,
     "metadata": {},
     "output_type": "execute_result"
    }
   ],
   "source": [
    "def norm(d):\n",
    "    df = pd.DataFrame(d[1:], columns = d[0])\n",
    "    nd = preprocessing.normalize(df)\n",
    "    ndf = pd.DataFrame(nd, columns = d[0])\n",
    "    del ndf['ID']\n",
    "    del ndf['Absenteeism time in hours']\n",
    "    return ndf,df\n",
    "\n",
    "norm_test,df_test = norm(d_test)\n",
    "norm_train,df_train = norm(d_train)\n",
    "norm_valid,df_valid = norm(d_valid)\n",
    "\n",
    "neigh = KNeighborsClassifier(n_neighbors=1)\n",
    "neigh.fit(norm_train.iloc[:,:-1],df_train.iloc[:,-1:].values.ravel().astype(int))\n"
   ]
  },
  {
   "cell_type": "markdown",
   "metadata": {},
   "source": [
    "### Question 2. For parameter k, select the best k from {3, 5, 7, 10} based on the mean squared error on the validation set.  "
   ]
  },
  {
   "cell_type": "code",
   "execution_count": 48,
   "metadata": {},
   "outputs": [],
   "source": [
    "k = [3,5,7,10]\n",
    "vals = []\n",
    "\n",
    "for val in k:\n",
    "    neigh = KNeighborsClassifier(n_neighbors=val)\n",
    "    X = norm_train.iloc[:,:-1]\n",
    "    y = df_train.iloc[:,-1:].values.ravel().astype(int)\n",
    "    neigh.fit(X,y )\n",
    "    pred = neigh.predict(norm_valid.iloc[:,:-1]).astype(int)\n",
    "    true = df_valid.iloc[:,-1:].values.ravel().astype(int)\n",
    "    mse = mean_squared_error(true, pred)\n",
    "    vals.append(mse)\n",
    "\n",
    "best =  k[vals.index(min(vals))]"
   ]
  },
  {
   "cell_type": "markdown",
   "metadata": {},
   "source": [
    "### Question 3. Using the best k in Question 2, predict the output for the test set. Print the mean squared error."
   ]
  },
  {
   "cell_type": "code",
   "execution_count": 49,
   "metadata": {},
   "outputs": [
    {
     "name": "stdout",
     "output_type": "stream",
     "text": [
      "Mean Squared Error:  434.8139534883721\n"
     ]
    }
   ],
   "source": [
    "neigh = KNeighborsClassifier(n_neighbors=best)\n",
    "X = norm_train.iloc[:,:-1]\n",
    "y = df_train.iloc[:,-1:].values.ravel().astype(int)\n",
    "neigh.fit(X,y )\n",
    "pred = neigh.predict(norm_test.iloc[:,:-1]).astype(int)\n",
    "true = df_test.iloc[:,-1:].values.ravel().astype(int)\n",
    "mse = mean_squared_error(true, pred)\n",
    "\n",
    "print(\"Mean Squared Error: \", mse)"
   ]
  }
 ],
 "metadata": {
  "kernelspec": {
   "display_name": "Python 3",
   "language": "python",
   "name": "python3"
  },
  "language_info": {
   "codemirror_mode": {
    "name": "ipython",
    "version": 3
   },
   "file_extension": ".py",
   "mimetype": "text/x-python",
   "name": "python",
   "nbconvert_exporter": "python",
   "pygments_lexer": "ipython3",
   "version": "3.7.2"
  }
 },
 "nbformat": 4,
 "nbformat_minor": 2
}
