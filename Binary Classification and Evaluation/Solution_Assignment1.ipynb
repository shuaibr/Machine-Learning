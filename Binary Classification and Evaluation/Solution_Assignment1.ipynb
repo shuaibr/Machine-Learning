{
 "cells": [
  {
   "cell_type": "markdown",
   "metadata": {},
   "source": [
    "# <center> Assignment 1 </center>\n",
    "\n",
    "You are given a list of target values of a binary classification problem, and a list of corresponding predicted scores from a model. Please evaluate the preformance of the model in the following aspects. "
   ]
  },
  {
   "cell_type": "code",
   "execution_count": 1,
   "metadata": {},
   "outputs": [],
   "source": [
    "import matplotlib.pyplot as plt\n",
    "\n",
    "### Read the target values and predicted scores into lists\n",
    "def read_from_file(filename):\n",
    "    file = open(filename, \"r\") \n",
    "    s = file.read()\n",
    "    lines = s.split('\\n')\n",
    "    return [float(x) for x in lines]\n",
    "\n",
    "target = read_from_file('target.csv')\n",
    "pred = read_from_file('pred.csv')"
   ]
  },
  {
   "cell_type": "markdown",
   "metadata": {},
   "source": [
    "### Question 1. Assume the target level 1 is positive, and 0 is negative. Given a threshold 0.3, show the confusion matrix."
   ]
  },
  {
   "cell_type": "code",
   "execution_count": 2,
   "metadata": {
    "scrolled": true
   },
   "outputs": [
    {
     "name": "stdout",
     "output_type": "stream",
     "text": [
      "              Prediction\n",
      "              1          0     \n",
      "        ________________________\n",
      "      1 |   577    |    395    |\n",
      "target  \n",
      "      0 |    11    |    1682   |\n",
      "        ________________________ \n"
     ]
    }
   ],
   "source": [
    "def getConfusionMatrix(tar, pre, threshold):\n",
    "    matrix = [[0,0], [0,0]]\n",
    "    for i in range(len(tar)):\n",
    "        p = pre[i]\n",
    "        t = tar[i]\n",
    "        if t == 1:\n",
    "            if p >= threshold:\n",
    "                matrix[0][0] += 1\n",
    "            else:\n",
    "                matrix[0][1] += 1\n",
    "        else:\n",
    "            if p >= threshold:\n",
    "                matrix[1][0] += 1\n",
    "            else:\n",
    "                matrix[1][1] += 1\n",
    "    return matrix\n",
    "\n",
    "cm = getConfusionMatrix(target, pred, 0.3)\n",
    "\n",
    "print(\"              Prediction\")\n",
    "print(\"              1          0     \")\n",
    "print(\"        ________________________\")\n",
    "print(\"      1 |   %d    |    %d    |\" %(cm[0][0], cm[0][1]))\n",
    "print(\"target  \")\n",
    "print(\"      0 |    %d    |    %d   |\" % (cm[1][0], cm[1][1]))\n",
    "print(\"        ________________________ \")\n",
    "\n"
   ]
  },
  {
   "cell_type": "markdown",
   "metadata": {},
   "source": [
    "### Question 2. What are the following values based on the confusion matrix in Question 1? TPR, FPR, TNR, FNR, Precision, Recall, F1-measure."
   ]
  },
  {
   "cell_type": "code",
   "execution_count": 3,
   "metadata": {},
   "outputs": [
    {
     "name": "stdout",
     "output_type": "stream",
     "text": [
      "TPR = 0.5936\n",
      "TNR = 0.9935\n",
      "FPR = 0.0065\n",
      "FNR = 0.4064\n",
      "Precision = 0.9813\n",
      "Recall = 0.5936\n",
      "F1-measure = 0.7397\n"
     ]
    }
   ],
   "source": [
    "\n",
    "TPR = cm[0][0] / (cm[0][0] + cm[0][1])\n",
    "TNR = cm[1][1] / (cm[1][0] + cm[1][1])\n",
    "FPR = cm[1][0] / (cm[1][0] + cm[1][1])\n",
    "FNR = cm[0][1] / (cm[0][0] + cm[0][1])\n",
    "Precision = cm[0][0] / (cm[0][0] + cm[1][0])\n",
    "Recall = cm[0][0] / (cm[0][0] + cm[0][1])\n",
    "F1 = 2 * (Precision * Recall) / (Precision + Recall) \n",
    "\n",
    "print(\"TPR = %.4f\" % TPR)\n",
    "print(\"TNR = %.4f\" % TNR)\n",
    "print(\"FPR = %.4f\" % FPR)\n",
    "print(\"FNR = %.4f\" % FNR)\n",
    "print(\"Precision = %.4f\" % Precision)\n",
    "print(\"Recall = %.4f\" % Recall)\n",
    "print(\"F1-measure = %.4f\" % F1)"
   ]
  },
  {
   "cell_type": "markdown",
   "metadata": {},
   "source": [
    "### Question 3. Draw ROC curve"
   ]
  },
  {
   "cell_type": "code",
   "execution_count": 4,
   "metadata": {},
   "outputs": [
    {
     "data": {
      "image/png": "[encoded data removed]",
      "text/plain": [
       "<Figure size 432x288 with 1 Axes>"
      ]
     },
     "metadata": {
      "needs_background": "light"
     },
     "output_type": "display_data"
    }
   ],
   "source": [
    "import matplotlib.pyplot as plt\n",
    "def getTPRFPR(tar, pre, threshold):\n",
    "    tp=0\n",
    "    fp=0\n",
    "    tn=0\n",
    "    fn=0\n",
    "    for i in range(len(tar)):\n",
    "        if tar[i] == 1 and pred[i] >= threshold:\n",
    "            tp += 1\n",
    "        elif tar[i] == 0 and pred[i] >= threshold:\n",
    "            fp += 1\n",
    "        elif tar[i] == 1 and pred[i] < threshold:\n",
    "            fn += 1\n",
    "        elif tar[i] == 0 and pred[i] < threshold:\n",
    "            tn += 1\n",
    "    tpr = tp / (tp + fn)\n",
    "    fpr = fp / (tn + fp)\n",
    "    return fpr, tpr\n",
    "\n",
    "# use the predicted scores as thresholds\n",
    "fprList = []\n",
    "tprList = []\n",
    "ordered_score = sorted(pred, reverse=True)\n",
    "for score in ordered_score:\n",
    "    fpr,tpr = getTPRFPR(target, pred, score)\n",
    "    fprList.append(fpr)\n",
    "    tprList.append(tpr)\n",
    "    \n",
    "plt.plot(fprList,tprList)\n",
    "plt.xlabel('False Positive Rate', fontsize=20) \n",
    "plt.ylabel('True Positive Rate', fontsize=20) \n",
    "plt.show()"
   ]
  },
  {
   "cell_type": "markdown",
   "metadata": {},
   "source": [
    "### Question 4. What is the value of ROC Index?"
   ]
  },
  {
   "cell_type": "code",
   "execution_count": 5,
   "metadata": {},
   "outputs": [
    {
     "name": "stdout",
     "output_type": "stream",
     "text": [
      "ROC index is 0.9922.\n"
     ]
    }
   ],
   "source": [
    "# Need to make sure the points are ordered. Otherwise, you will get wrong answer (even negative solution).\n",
    "rocindex = 0\n",
    "for i in range(1, len(fprList)):\n",
    "    rocindex += ((fprList[i] - fprList[i-1]) * (tprList[i] + tprList[i-1])) / 2\n",
    "    \n",
    "print(\"ROC index is %.4f.\" % (rocindex))\n"
   ]
  },
  {
   "cell_type": "code",
   "execution_count": null,
   "metadata": {},
   "outputs": [],
   "source": []
  },
  {
   "cell_type": "code",
   "execution_count": null,
   "metadata": {},
   "outputs": [],
   "source": []
  }
 ],
 "metadata": {
  "kernelspec": {
   "display_name": "Python 3",
   "language": "python",
   "name": "python3"
  },
  "language_info": {
   "codemirror_mode": {
    "name": "ipython",
    "version": 3
   },
   "file_extension": ".py",
   "mimetype": "text/x-python",
   "name": "python",
   "nbconvert_exporter": "python",
   "pygments_lexer": "ipython3",
   "version": "3.7.5"
  }
 },
 "nbformat": 4,
 "nbformat_minor": 2
}
