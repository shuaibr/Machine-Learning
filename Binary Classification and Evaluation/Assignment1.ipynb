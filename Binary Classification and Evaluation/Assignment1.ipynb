{
 "cells": [
  {
   "cell_type": "markdown",
   "metadata": {},
   "source": [
    "# <center> Assignment 1 </center>\n",
    "\n",
    "#### Name: Shuaib Reeyaz\n",
    "\n",
    "#### Student ID: 150616640\n",
    "\n",
    "You are given a list of target values of a binary classification problem, and a list of corresponding predicted scores from a model. Please evaluate the preformance of the model in the following aspects. "
   ]
  },
  {
   "cell_type": "code",
   "execution_count": 18,
   "metadata": {},
   "outputs": [],
   "source": [
    "import pandas as pd\n",
    "#import sklearn.Imputer\n",
    "import matplotlib.pyplot as plt\n",
    "import sklearn\n",
    "import pylab as pl\n",
    "from sklearn.metrics import confusion_matrix\n"
   ]
  },
  {
   "cell_type": "code",
   "execution_count": 19,
   "metadata": {},
   "outputs": [],
   "source": [
    "### Read the target values and predicted scores into lists\n",
    "\n",
    "def read_from_file(filename):\n",
    "    file = open(filename, \"r\") \n",
    "    s = file.read()\n",
    "    lines = s.split('\\n')\n",
    "    return [float(x) for x in lines]\n",
    "\n",
    "target = read_from_file('target.csv')\n",
    "pred = read_from_file('pred.csv')"
   ]
  },
  {
   "cell_type": "markdown",
   "metadata": {},
   "source": [
    "### Question 1. Assume the target level 1 is positive, and 0 is negative. Given a threshold 0.3, show the confusion matrix."
   ]
  },
  {
   "cell_type": "code",
   "execution_count": 41,
   "metadata": {},
   "outputs": [
    {
     "name": "stdout",
     "output_type": "stream",
     "text": [
      "Confusion Matrix :\n",
      "[[1682   11]\n",
      " [ 395  577]]\n"
     ]
    }
   ],
   "source": [
    "new_pred = []\n",
    "for i in pred: \n",
    "    if i >= 0.3: \n",
    "        new_pred.append(1)\n",
    "    else:\n",
    "        new_pred.append(0)\n",
    "\n",
    "\n",
    "\n",
    "results = confusion_matrix(target, new_pred) \n",
    "print('Confusion Matrix :')\n",
    "print(results) \n",
    "\n",
    "        \n"
   ]
  },
  {
   "cell_type": "markdown",
   "metadata": {},
   "source": [
    "### Question 2. What are the following values based on the confusion matrix in \n",
    "Question 1? TPR, FPR, TNR, FNR, Precision, Recall, F1-measure."
   ]
  },
  {
   "cell_type": "code",
   "execution_count": 58,
   "metadata": {},
   "outputs": [
    {
     "name": "stdout",
     "output_type": "stream",
     "text": [
      "Report : \n",
      "              precision    recall  f1-score   support\n",
      "\n",
      "         0.0       0.81      0.99      0.89      1693\n",
      "         1.0       0.98      0.59      0.74       972\n",
      "\n",
      "    accuracy                           0.85      2665\n",
      "   macro avg       0.90      0.79      0.82      2665\n",
      "weighted avg       0.87      0.85      0.84      2665\n",
      "\n",
      "TPR:  0.5936213991769548\n",
      "FPR:  0.006497341996455995\n",
      "TNR:  0.993502658003544\n",
      "FNR:  0.4063786008230453\n",
      "Precision:  0.9812925170068028\n",
      "Recall:  0.5936213991769548\n",
      "F1-Measure:  0.7397435897435898\n"
     ]
    }
   ],
   "source": [
    "print ('Report : ')\n",
    "print( classification_report(target, new_pred) )\n",
    "tn = results[0][0]\n",
    "fn = results[1][0]\n",
    "fp = results[0][1]\n",
    "tp = results[1][1]\n",
    "print(\"TPR: \",tp/(tp+fn))\n",
    "print(\"FPR: \",fp/(tn+fp))\n",
    "print(\"TNR: \",tn/(tn+fp))\n",
    "print(\"FNR: \",fn/(fn+tp))\n",
    "print(\"Precision: \",tp/(tp+fp))\n",
    "precision = tp/(tp+fp)\n",
    "print(\"Recall: \",tp/(tp+fn))\n",
    "recall = tp/(tp+fn)\n",
    "print(\"F1-Measure: \",(2*(precision*recall)/(precision+recall)))"
   ]
  },
  {
   "cell_type": "markdown",
   "metadata": {},
   "source": [
    "### Question 3. Draw ROC curve"
   ]
  },
  {
   "cell_type": "code",
   "execution_count": 74,
   "metadata": {},
   "outputs": [
    {
     "data": {
      "image/png": "[encoded data removed]",
      "text/plain": [
       "<Figure size 432x288 with 1 Axes>"
      ]
     },
     "metadata": {
      "needs_background": "light"
     },
     "output_type": "display_data"
    }
   ],
   "source": [
    "### Below is sample code to draw a line graph with two lists. You may replace the x \n",
    "#and y values to appropriate values to create your ROC curve.\n",
    "import matplotlib.pyplot as plt\n",
    "import sklearn.metrics as metrics\n",
    "\n",
    "tpr=tp/(tp+fn)\n",
    "fpr=fp/(tn+fp)\n",
    "\n",
    "fpr, tpr, threshold = metrics.roc_curve(target, pred)\n",
    "roc_auc = metrics.auc(fpr, tpr)\n",
    "\n",
    "plt.plot(fpr, tpr, color='orange', label='ROC')\n",
    "plt.plot([0, 1], [0, 1], color='darkblue', linestyle='--')\n",
    "plt.xlabel('False Positive Rate')\n",
    "plt.ylabel('True Positive Rate')\n",
    "plt.title('Receiver Operating Characteristic (ROC) Curve')\n",
    "plt.legend()\n",
    "plt.show()\n"
   ]
  },
  {
   "cell_type": "markdown",
   "metadata": {},
   "source": [
    "### Question 4. What is the value of ROC Index?"
   ]
  },
  {
   "cell_type": "code",
   "execution_count": 75,
   "metadata": {},
   "outputs": [
    {
     "name": "stdout",
     "output_type": "stream",
     "text": [
      "ROC Index:  0.9921900636608256\n"
     ]
    }
   ],
   "source": [
    "print(\"ROC Index: \", roc_auc)"
   ]
  }
 ],
 "metadata": {
  "kernelspec": {
   "display_name": "Python 3",
   "language": "python",
   "name": "python3"
  },
  "language_info": {
   "codemirror_mode": {
    "name": "ipython",
    "version": 3
   },
   "file_extension": ".py",
   "mimetype": "text/x-python",
   "name": "python",
   "nbconvert_exporter": "python",
   "pygments_lexer": "ipython3",
   "version": "3.8.1"
  }
 },
 "nbformat": 4,
 "nbformat_minor": 2
}
